{
 "cells": [
  {
   "cell_type": "markdown",
   "metadata": {},
   "source": [
    "## Deliverable 3. Create a Travel Itinerary Map."
   ]
  },
  {
   "cell_type": "code",
   "execution_count": 149,
   "metadata": {},
   "outputs": [],
   "source": [
    "# Dependencies and Setup\n",
    "import pandas as pd\n",
    "import requests\n",
    "import gmaps\n",
    "import gmaps.datasets\n",
    "\n",
    "# Import API key\n",
    "from config import g_key\n",
    "\n",
    "# Configure gmaps\n",
    "gmaps.configure(api_key=g_key)"
   ]
  },
  {
   "cell_type": "code",
   "execution_count": 151,
   "metadata": {},
   "outputs": [
    {
     "data": {
      "text/html": [
       "<div>\n",
       "<style scoped>\n",
       "    .dataframe tbody tr th:only-of-type {\n",
       "        vertical-align: middle;\n",
       "    }\n",
       "\n",
       "    .dataframe tbody tr th {\n",
       "        vertical-align: top;\n",
       "    }\n",
       "\n",
       "    .dataframe thead th {\n",
       "        text-align: right;\n",
       "    }\n",
       "</style>\n",
       "<table border=\"1\" class=\"dataframe\">\n",
       "  <thead>\n",
       "    <tr style=\"text-align: right;\">\n",
       "      <th></th>\n",
       "      <th>City_ID</th>\n",
       "      <th>City</th>\n",
       "      <th>Country</th>\n",
       "      <th>Max Temp</th>\n",
       "      <th>Current Description</th>\n",
       "      <th>Lat</th>\n",
       "      <th>Lng</th>\n",
       "      <th>Hotel Name</th>\n",
       "    </tr>\n",
       "  </thead>\n",
       "  <tbody>\n",
       "    <tr>\n",
       "      <th>0</th>\n",
       "      <td>0</td>\n",
       "      <td>San Andres</td>\n",
       "      <td>CO</td>\n",
       "      <td>82.42</td>\n",
       "      <td>scattered clouds</td>\n",
       "      <td>12.5847</td>\n",
       "      <td>-81.7006</td>\n",
       "      <td>Hotel Arena Blanca</td>\n",
       "    </tr>\n",
       "    <tr>\n",
       "      <th>1</th>\n",
       "      <td>1</td>\n",
       "      <td>Bredasdorp</td>\n",
       "      <td>ZA</td>\n",
       "      <td>64.72</td>\n",
       "      <td>overcast clouds</td>\n",
       "      <td>-34.5322</td>\n",
       "      <td>20.0403</td>\n",
       "      <td>Bredasdorp Country Manor</td>\n",
       "    </tr>\n",
       "    <tr>\n",
       "      <th>2</th>\n",
       "      <td>2</td>\n",
       "      <td>Jamestown</td>\n",
       "      <td>US</td>\n",
       "      <td>72.95</td>\n",
       "      <td>broken clouds</td>\n",
       "      <td>42.0970</td>\n",
       "      <td>-79.2353</td>\n",
       "      <td>Hampton Inn &amp; Suites Jamestown</td>\n",
       "    </tr>\n",
       "    <tr>\n",
       "      <th>3</th>\n",
       "      <td>3</td>\n",
       "      <td>Cidreira</td>\n",
       "      <td>BR</td>\n",
       "      <td>66.81</td>\n",
       "      <td>broken clouds</td>\n",
       "      <td>-30.1811</td>\n",
       "      <td>-50.2056</td>\n",
       "      <td>Hotel Castelo</td>\n",
       "    </tr>\n",
       "    <tr>\n",
       "      <th>4</th>\n",
       "      <td>4</td>\n",
       "      <td>Cape Town</td>\n",
       "      <td>ZA</td>\n",
       "      <td>69.12</td>\n",
       "      <td>few clouds</td>\n",
       "      <td>-33.9258</td>\n",
       "      <td>18.4232</td>\n",
       "      <td>Radisson Blu Hotel Waterfront, Cape Town</td>\n",
       "    </tr>\n",
       "  </tbody>\n",
       "</table>\n",
       "</div>"
      ],
      "text/plain": [
       "   City_ID        City Country  Max Temp Current Description      Lat  \\\n",
       "0        0  San Andres      CO     82.42    scattered clouds  12.5847   \n",
       "1        1  Bredasdorp      ZA     64.72     overcast clouds -34.5322   \n",
       "2        2   Jamestown      US     72.95       broken clouds  42.0970   \n",
       "3        3    Cidreira      BR     66.81       broken clouds -30.1811   \n",
       "4        4   Cape Town      ZA     69.12          few clouds -33.9258   \n",
       "\n",
       "       Lng                                Hotel Name  \n",
       "0 -81.7006                        Hotel Arena Blanca  \n",
       "1  20.0403                  Bredasdorp Country Manor  \n",
       "2 -79.2353            Hampton Inn & Suites Jamestown  \n",
       "3 -50.2056                             Hotel Castelo  \n",
       "4  18.4232  Radisson Blu Hotel Waterfront, Cape Town  "
      ]
     },
     "execution_count": 151,
     "metadata": {},
     "output_type": "execute_result"
    }
   ],
   "source": [
    "# 1. Read the WeatherPy_vacation.csv into a DataFrame.\n",
    "vacation_df = pd.read_csv(\"../Vacation_Search/WeatherPy_vacation.csv\")\n",
    "#vacation_df = pd.read_csv(\"../Weather_Database/WeatherPy_Database.csv\")\n",
    "#vacation_df = pd.read_csv(\"../Weather_Database/WeatherPy_Database.csv\")\n",
    "\n",
    "vacation_df.head()"
   ]
  },
  {
   "cell_type": "code",
   "execution_count": 152,
   "metadata": {},
   "outputs": [
    {
     "data": {
      "text/plain": [
       "City_ID                552\n",
       "City                   552\n",
       "Country                552\n",
       "Max Temp               552\n",
       "Current Description    552\n",
       "Lat                    552\n",
       "Lng                    552\n",
       "Hotel Name             507\n",
       "dtype: int64"
      ]
     },
     "execution_count": 152,
     "metadata": {},
     "output_type": "execute_result"
    }
   ],
   "source": [
    "vacation_df.count()"
   ]
  },
  {
   "cell_type": "code",
   "execution_count": 153,
   "metadata": {},
   "outputs": [],
   "source": [
    "# 2. Using the template add the city name, the country code, the weather description and maximum temperature for the city.\n",
    "info_box_template = \"\"\"\n",
    "\n",
    "<dl>\n",
    "<dt>Hotel Name</dt><dd>{Hotel Name}</dd>\n",
    "<dt>City</dt><dd>{City}</dd>\n",
    "<dt>Country</dt><dd>{Country}</dd>\n",
    "<dt>Current Description</dt><dd>{Current Description}</dd>\n",
    "<dt>Max Temp</dt><dd>{Max Temp} °F</dd>\n",
    "</dl>\n",
    "\n",
    "\"\"\"\n",
    "\n",
    "# 3a. Get the data from each row and add it to the formatting template and store the data in a list.\n",
    "hotel_info = [info_box_template.format(**row) for index, row in vacation_df.iterrows()]\n",
    "\n",
    "# 3b. Get the latitude and longitude from each row and store in a new DataFrame.\n",
    "locations = vacation_df[[\"Lat\", \"Lng\"]]"
   ]
  },
  {
   "cell_type": "code",
   "execution_count": 154,
   "metadata": {},
   "outputs": [
    {
     "data": {
      "text/html": [
       "<div>\n",
       "<style scoped>\n",
       "    .dataframe tbody tr th:only-of-type {\n",
       "        vertical-align: middle;\n",
       "    }\n",
       "\n",
       "    .dataframe tbody tr th {\n",
       "        vertical-align: top;\n",
       "    }\n",
       "\n",
       "    .dataframe thead th {\n",
       "        text-align: right;\n",
       "    }\n",
       "</style>\n",
       "<table border=\"1\" class=\"dataframe\">\n",
       "  <thead>\n",
       "    <tr style=\"text-align: right;\">\n",
       "      <th></th>\n",
       "      <th>Lat</th>\n",
       "      <th>Lng</th>\n",
       "    </tr>\n",
       "  </thead>\n",
       "  <tbody>\n",
       "    <tr>\n",
       "      <th>0</th>\n",
       "      <td>12.5847</td>\n",
       "      <td>-81.7006</td>\n",
       "    </tr>\n",
       "    <tr>\n",
       "      <th>1</th>\n",
       "      <td>-34.5322</td>\n",
       "      <td>20.0403</td>\n",
       "    </tr>\n",
       "    <tr>\n",
       "      <th>2</th>\n",
       "      <td>42.0970</td>\n",
       "      <td>-79.2353</td>\n",
       "    </tr>\n",
       "    <tr>\n",
       "      <th>3</th>\n",
       "      <td>-30.1811</td>\n",
       "      <td>-50.2056</td>\n",
       "    </tr>\n",
       "    <tr>\n",
       "      <th>4</th>\n",
       "      <td>-33.9258</td>\n",
       "      <td>18.4232</td>\n",
       "    </tr>\n",
       "    <tr>\n",
       "      <th>...</th>\n",
       "      <td>...</td>\n",
       "      <td>...</td>\n",
       "    </tr>\n",
       "    <tr>\n",
       "      <th>547</th>\n",
       "      <td>38.1711</td>\n",
       "      <td>13.2393</td>\n",
       "    </tr>\n",
       "    <tr>\n",
       "      <th>548</th>\n",
       "      <td>54.8540</td>\n",
       "      <td>-1.8316</td>\n",
       "    </tr>\n",
       "    <tr>\n",
       "      <th>549</th>\n",
       "      <td>51.0572</td>\n",
       "      <td>3.3788</td>\n",
       "    </tr>\n",
       "    <tr>\n",
       "      <th>550</th>\n",
       "      <td>61.5996</td>\n",
       "      <td>5.0328</td>\n",
       "    </tr>\n",
       "    <tr>\n",
       "      <th>551</th>\n",
       "      <td>-21.0500</td>\n",
       "      <td>31.6667</td>\n",
       "    </tr>\n",
       "  </tbody>\n",
       "</table>\n",
       "<p>552 rows × 2 columns</p>\n",
       "</div>"
      ],
      "text/plain": [
       "         Lat      Lng\n",
       "0    12.5847 -81.7006\n",
       "1   -34.5322  20.0403\n",
       "2    42.0970 -79.2353\n",
       "3   -30.1811 -50.2056\n",
       "4   -33.9258  18.4232\n",
       "..       ...      ...\n",
       "547  38.1711  13.2393\n",
       "548  54.8540  -1.8316\n",
       "549  51.0572   3.3788\n",
       "550  61.5996   5.0328\n",
       "551 -21.0500  31.6667\n",
       "\n",
       "[552 rows x 2 columns]"
      ]
     },
     "execution_count": 154,
     "metadata": {},
     "output_type": "execute_result"
    }
   ],
   "source": [
    "locations"
   ]
  },
  {
   "cell_type": "code",
   "execution_count": 155,
   "metadata": {},
   "outputs": [
    {
     "data": {
      "application/vnd.jupyter.widget-view+json": {
       "model_id": "7f7d4b46aafb435bb3df0b31468af65e",
       "version_major": 2,
       "version_minor": 0
      },
      "text/plain": [
       "Figure(layout=FigureLayout(height='420px'))"
      ]
     },
     "metadata": {},
     "output_type": "display_data"
    }
   ],
   "source": [
    "# 4a. Add a marker layer for each city to the map.\n",
    "\n",
    "fig = gmaps.figure(center=(30.0, 31.0), zoom_level=1.5)\n",
    "\n",
    "marker_layer = gmaps.marker_layer(locations, info_box_content=hotel_info)\n",
    "\n",
    "# 4b. Display the figure\n",
    "\n",
    "fig.add_layer(marker_layer)\n",
    "fig\n"
   ]
  },
  {
   "cell_type": "code",
   "execution_count": null,
   "metadata": {},
   "outputs": [],
   "source": [
    "### EXTRA CODE. To fin the 4 cities close, I look the Toledo coordinates, previously I saw there are 4 cities close."
   ]
  },
  {
   "cell_type": "code",
   "execution_count": 21,
   "metadata": {},
   "outputs": [
    {
     "name": "stdout",
     "output_type": "stream",
     "text": [
      "http://api.openweathermap.org/data/2.5/weather?units=Imperial&APPID=548ee1520fdb60fc6e20dbbfe4aecab2&q=Toledo\n"
     ]
    }
   ],
   "source": [
    "# EXTRA CODEStarting URL for Weather Map API Call.\n",
    "# units=Imperial. There are three unit options: standard, metric, and imperial. \n",
    "#url = \"http://api.openweathermap.org/data/2.5/weather?units=Imperial&APPID=\" + my API\n",
    "country = \"Toledo\"\n",
    "\n",
    "url = \"http://api.openweathermap.org/data/2.5/weather?units=Imperial&APPID=\" + \"548ee1520fdb60fc6e20dbbfe4aecab2\"\n",
    "\n",
    "url = url + \"&q=\" + country\n",
    "print(url)"
   ]
  },
  {
   "cell_type": "code",
   "execution_count": 156,
   "metadata": {},
   "outputs": [
    {
     "data": {
      "text/plain": [
       "5"
      ]
     },
     "execution_count": 156,
     "metadata": {},
     "output_type": "execute_result"
    }
   ],
   "source": [
    "#EXTRA CODE\n",
    "params = {\n",
    "    \"radius\": 2600,\n",
    "    \"types\": \"lodging\",\n",
    "    \"key\": g_key,\n",
    "    \"location\": \"39.833,-4\"\n",
    "    }\n",
    "\n",
    "# Use base URL to search for hotels in Paris.\n",
    "base_url = \"https://maps.googleapis.com/maps/api/place/nearbysearch/json\"\n",
    "# Make request and get the JSON data from the search.\n",
    "hotels = requests.get(base_url, params=params).json()\n",
    "\n",
    "\n",
    "len(hotels[\"results\"])"
   ]
  },
  {
   "cell_type": "code",
   "execution_count": 157,
   "metadata": {},
   "outputs": [],
   "source": [
    "# From the map above pick 4 cities and create a vacation itinerary route to travel between the four cities. \n",
    "# 5. Create DataFrames for each city by filtering the 'vacation_df' using the loc method. \n",
    "# Hint: The starting and ending city should be the same city.\n",
    "\n",
    "min_temp = 70\n",
    "max_temp = 83\n",
    "\n",
    "vacation_start = vacation_df.loc[(vacation_df[\"Max Temp\"] <= max_temp) & \\\n",
    "                                            (vacation_df[\"Max Temp\"] >= min_temp) & \\\n",
    "                                            (vacation_df[\"Country\"] == \"ES\") & \\\n",
    "                                            (vacation_df[\"Hotel Name\"] == \"Hotel La Salve\")]\n",
    "                                  \n",
    "vacation_end = vacation_df.loc[(vacation_df[\"Max Temp\"] <= max_temp) & \\\n",
    "                                            (vacation_df[\"Max Temp\"] >= min_temp) & \\\n",
    "                                            (vacation_df[\"Country\"] == \"ES\") & \\\n",
    "                                            (vacation_df[\"Hotel Name\"] == \"Hotel La Salve\")]\n",
    "\n",
    "vacation_stop1 = vacation_df.loc[(vacation_df[\"Max Temp\"] <= max_temp) & \\\n",
    "                                            (vacation_df[\"Max Temp\"] >= min_temp) & \\\n",
    "                                            (vacation_df[\"Country\"] == \"ES\") & \\\n",
    "                                            (vacation_df[\"Hotel Name\"] == \"Hotel Villa de Aranda\")]\n",
    "\n",
    "vacation_stop2 = vacation_df.loc[(vacation_df[\"Max Temp\"] <= max_temp) & \\\n",
    "                                            (vacation_df[\"Max Temp\"] >= min_temp) & \\\n",
    "                                            (vacation_df[\"Country\"] == \"ES\") & \\\n",
    "                                            (vacation_df[\"Hotel Name\"] == \"Parador de Benavente\")]\n",
    "\n",
    "vacation_stop3 = vacation_df.loc[(vacation_df[\"Max Temp\"] <= max_temp) & \\\n",
    "                                            (vacation_df[\"Max Temp\"] >= min_temp) & \\\n",
    "                                            (vacation_df[\"Country\"] == \"ES\") & \\\n",
    "                                            (vacation_df[\"Hotel Name\"] == \"Posada Puerta Grande\")] \n",
    "    "
   ]
  },
  {
   "cell_type": "code",
   "execution_count": 158,
   "metadata": {},
   "outputs": [
    {
     "data": {
      "text/html": [
       "<div>\n",
       "<style scoped>\n",
       "    .dataframe tbody tr th:only-of-type {\n",
       "        vertical-align: middle;\n",
       "    }\n",
       "\n",
       "    .dataframe tbody tr th {\n",
       "        vertical-align: top;\n",
       "    }\n",
       "\n",
       "    .dataframe thead th {\n",
       "        text-align: right;\n",
       "    }\n",
       "</style>\n",
       "<table border=\"1\" class=\"dataframe\">\n",
       "  <thead>\n",
       "    <tr style=\"text-align: right;\">\n",
       "      <th></th>\n",
       "      <th>City_ID</th>\n",
       "      <th>City</th>\n",
       "      <th>Country</th>\n",
       "      <th>Max Temp</th>\n",
       "      <th>Current Description</th>\n",
       "      <th>Lat</th>\n",
       "      <th>Lng</th>\n",
       "      <th>Hotel Name</th>\n",
       "    </tr>\n",
       "  </thead>\n",
       "  <tbody>\n",
       "    <tr>\n",
       "      <th>204</th>\n",
       "      <td>249</td>\n",
       "      <td>Aranda De Duero</td>\n",
       "      <td>ES</td>\n",
       "      <td>70.12</td>\n",
       "      <td>light rain</td>\n",
       "      <td>41.6704</td>\n",
       "      <td>-3.6892</td>\n",
       "      <td>Hotel Villa de Aranda</td>\n",
       "    </tr>\n",
       "  </tbody>\n",
       "</table>\n",
       "</div>"
      ],
      "text/plain": [
       "     City_ID             City Country  Max Temp Current Description      Lat  \\\n",
       "204      249  Aranda De Duero      ES     70.12          light rain  41.6704   \n",
       "\n",
       "        Lng             Hotel Name  \n",
       "204 -3.6892  Hotel Villa de Aranda  "
      ]
     },
     "execution_count": 158,
     "metadata": {},
     "output_type": "execute_result"
    }
   ],
   "source": [
    "vacation_stop1"
   ]
  },
  {
   "cell_type": "code",
   "execution_count": 159,
   "metadata": {},
   "outputs": [
    {
     "data": {
      "text/plain": [
       "array([[39.9819, -4.2835]])"
      ]
     },
     "execution_count": 159,
     "metadata": {},
     "output_type": "execute_result"
    }
   ],
   "source": [
    "vacation_start[[\"Lat\", \"Lng\"]].to_numpy()"
   ]
  },
  {
   "cell_type": "code",
   "execution_count": 215,
   "metadata": {},
   "outputs": [
    {
     "name": "stdout",
     "output_type": "stream",
     "text": [
      "[39.9819, -4.2835]\n",
      "[[39.9819, -4.2835]]\n",
      "[39.9819, -4.2835]\n"
     ]
    }
   ],
   "source": [
    "import numpy as np\n",
    "# 6. Get the latitude-longitude pairs as tuples from each city DataFrame using the to_numpy function and list indexing.\n",
    "\n",
    "start = vacation_start[[\"Lat\",\"Lng\"]].to_numpy()\n",
    "print(star)\n",
    "end = vacation_end[[\"Lat\",\"Lng\"]].to_numpy()\n",
    "stop1 = vacation_stop1[[\"Lat\",\"Lng\"]].to_numpy()\n",
    "stop2 = vacation_stop2[[\"Lat\",\"Lng\"]].to_numpy()\n",
    "stop3 = vacation_stop3[[\"Lat\",\"Lng\"]].to_numpy()\n",
    "\n",
    "start1 = start.tolist()\n",
    "end1 = end.tolist()\n",
    "stop1_1 = stop1.tolist()\n",
    "stop2_2 = stop2.tolist()\n",
    "stop3_3 = stop3.tolist()\n",
    "print(start1)\n",
    "\n",
    "start = start1[0]\n",
    "end = end1[0]\n",
    "stop1 = stop1_1[0]\n",
    "stop2 = stop2_2[0]\n",
    "stop3 = stop3_3[0]\n",
    "print(start)\n"
   ]
  },
  {
   "cell_type": "code",
   "execution_count": 211,
   "metadata": {},
   "outputs": [
    {
     "data": {
      "text/plain": [
       "2"
      ]
     },
     "execution_count": 211,
     "metadata": {},
     "output_type": "execute_result"
    }
   ],
   "source": [
    "end = end1[0]\n",
    "len(end)"
   ]
  },
  {
   "cell_type": "code",
   "execution_count": 229,
   "metadata": {},
   "outputs": [
    {
     "data": {
      "application/vnd.jupyter.widget-view+json": {
       "model_id": "f7bf2e4e2233444aaf2cae1b2346e91f",
       "version_major": 2,
       "version_minor": 0
      },
      "text/plain": [
       "Figure(layout=FigureLayout(height='420px'))"
      ]
     },
     "metadata": {},
     "output_type": "display_data"
    }
   ],
   "source": [
    "# 7. Create a direction layer map using the start and end latitude-longitude pairs,\n",
    "# and stop1, stop2, and stop3 as the waypoints. The travel_mode should be \"DRIVING\", \"BICYCLING\", or \"WALKING\".\n",
    "fig = gmaps.figure()\n",
    "start_end_via_stop1stop2stop3 = gmaps.directions_layer(\n",
    "        start, end, waypoints = [stop1,stop2,stop3],\n",
    "        travel_mode = \"DRIVING\")\n",
    "fig.add_layer(start_end_via_stop1stop2stop3)\n",
    "fig\n"
   ]
  },
  {
   "cell_type": "code",
   "execution_count": 230,
   "metadata": {},
   "outputs": [
    {
     "data": {
      "text/html": [
       "<div>\n",
       "<style scoped>\n",
       "    .dataframe tbody tr th:only-of-type {\n",
       "        vertical-align: middle;\n",
       "    }\n",
       "\n",
       "    .dataframe tbody tr th {\n",
       "        vertical-align: top;\n",
       "    }\n",
       "\n",
       "    .dataframe thead th {\n",
       "        text-align: right;\n",
       "    }\n",
       "</style>\n",
       "<table border=\"1\" class=\"dataframe\">\n",
       "  <thead>\n",
       "    <tr style=\"text-align: right;\">\n",
       "      <th></th>\n",
       "      <th>City_ID</th>\n",
       "      <th>City</th>\n",
       "      <th>Country</th>\n",
       "      <th>Max Temp</th>\n",
       "      <th>Current Description</th>\n",
       "      <th>Lat</th>\n",
       "      <th>Lng</th>\n",
       "      <th>Hotel Name</th>\n",
       "    </tr>\n",
       "  </thead>\n",
       "  <tbody>\n",
       "    <tr>\n",
       "      <th>0</th>\n",
       "      <td>183</td>\n",
       "      <td>Torrijos</td>\n",
       "      <td>ES</td>\n",
       "      <td>82.08</td>\n",
       "      <td>scattered clouds</td>\n",
       "      <td>39.9819</td>\n",
       "      <td>-4.2835</td>\n",
       "      <td>Hotel La Salve</td>\n",
       "    </tr>\n",
       "    <tr>\n",
       "      <th>1</th>\n",
       "      <td>249</td>\n",
       "      <td>Aranda De Duero</td>\n",
       "      <td>ES</td>\n",
       "      <td>70.12</td>\n",
       "      <td>light rain</td>\n",
       "      <td>41.6704</td>\n",
       "      <td>-3.6892</td>\n",
       "      <td>Hotel Villa de Aranda</td>\n",
       "    </tr>\n",
       "    <tr>\n",
       "      <th>2</th>\n",
       "      <td>630</td>\n",
       "      <td>Benavente</td>\n",
       "      <td>ES</td>\n",
       "      <td>76.33</td>\n",
       "      <td>broken clouds</td>\n",
       "      <td>42.0025</td>\n",
       "      <td>-5.6783</td>\n",
       "      <td>Parador de Benavente</td>\n",
       "    </tr>\n",
       "    <tr>\n",
       "      <th>3</th>\n",
       "      <td>459</td>\n",
       "      <td>Bejar</td>\n",
       "      <td>ES</td>\n",
       "      <td>81.57</td>\n",
       "      <td>overcast clouds</td>\n",
       "      <td>40.3864</td>\n",
       "      <td>-5.7634</td>\n",
       "      <td>Posada Puerta Grande</td>\n",
       "    </tr>\n",
       "  </tbody>\n",
       "</table>\n",
       "</div>"
      ],
      "text/plain": [
       "   City_ID             City Country  Max Temp Current Description      Lat  \\\n",
       "0      183         Torrijos      ES     82.08    scattered clouds  39.9819   \n",
       "1      249  Aranda De Duero      ES     70.12          light rain  41.6704   \n",
       "2      630        Benavente      ES     76.33       broken clouds  42.0025   \n",
       "3      459            Bejar      ES     81.57     overcast clouds  40.3864   \n",
       "\n",
       "      Lng             Hotel Name  \n",
       "0 -4.2835         Hotel La Salve  \n",
       "1 -3.6892  Hotel Villa de Aranda  \n",
       "2 -5.6783   Parador de Benavente  \n",
       "3 -5.7634   Posada Puerta Grande  "
      ]
     },
     "execution_count": 230,
     "metadata": {},
     "output_type": "execute_result"
    }
   ],
   "source": [
    "# 8. To create a marker layer map between the four cities.\n",
    "#  Combine the four city DataFrames into one DataFrame using the concat() function.\n",
    "itinerary_df = pd.concat([vacation_start, vacation_stop1, vacation_stop2, vacation_stop3],ignore_index=True)\n",
    "itinerary_df"
   ]
  },
  {
   "cell_type": "code",
   "execution_count": 231,
   "metadata": {},
   "outputs": [],
   "source": [
    "# 9 Using the template add city name, the country code, the weather description and maximum temperature for the city. \n",
    "info_box_template = \"\"\"\n",
    "\n",
    "<dl>\n",
    "<dt>Hotel Name</dt><dd>{Hotel Name}</dd>\n",
    "<dt>City</dt><dd>{City}</dd>\n",
    "<dt>Country</dt><dd>{Country}</dd>\n",
    "<dt>Current Description</dt><dd>{Current Description}</dd>\n",
    "<dt>Max Temp</dt><dd>{Max Temp} °F</dd>\n",
    "</dl>\n",
    "\"\"\"\n",
    "\n",
    "# 10a Get the data from each row and add it to the formatting template and store the data in a list.\n",
    "hotel_info = [info_box_template.format(**row) for index, row in itinerary_df.iterrows()]\n",
    "\n",
    "# 10b. Get the latitude and longitude from each row and store in a new DataFrame.\n",
    "locations = itinerary_df[[\"Lat\", \"Lng\"]]"
   ]
  },
  {
   "cell_type": "code",
   "execution_count": 232,
   "metadata": {},
   "outputs": [
    {
     "data": {
      "application/vnd.jupyter.widget-view+json": {
       "model_id": "d64103e98442494484d4ebfeae5b96af",
       "version_major": 2,
       "version_minor": 0
      },
      "text/plain": [
       "Figure(layout=FigureLayout(height='420px'))"
      ]
     },
     "metadata": {},
     "output_type": "display_data"
    }
   ],
   "source": [
    "# 11a. Add a marker layer for each city to the map.\n",
    "\n",
    "fig = gmaps.figure(center=(30.0, 31.0), zoom_level=1.5)\n",
    "\n",
    "marker_layer = gmaps.marker_layer(locations, info_box_content=hotel_info)\n",
    "\n",
    "\n",
    "# 11b. Display the figure\n",
    "fig.add_layer(marker_layer)\n",
    "fig"
   ]
  },
  {
   "cell_type": "markdown",
   "metadata": {},
   "source": [
    "# End"
   ]
  }
 ],
 "metadata": {
  "kernelspec": {
   "display_name": "PythonData",
   "language": "python",
   "name": "pythondata"
  },
  "language_info": {
   "codemirror_mode": {
    "name": "ipython",
    "version": 3
   },
   "file_extension": ".py",
   "mimetype": "text/x-python",
   "name": "python",
   "nbconvert_exporter": "python",
   "pygments_lexer": "ipython3",
   "version": "3.7.11"
  },
  "latex_envs": {
   "LaTeX_envs_menu_present": true,
   "autoclose": false,
   "autocomplete": true,
   "bibliofile": "biblio.bib",
   "cite_by": "apalike",
   "current_citInitial": 1,
   "eqLabelWithNumbers": true,
   "eqNumInitial": 1,
   "hotkeys": {
    "equation": "Ctrl-E",
    "itemize": "Ctrl-I"
   },
   "labels_anchors": false,
   "latex_user_defs": false,
   "report_style_numbering": false,
   "user_envs_cfg": false
  }
 },
 "nbformat": 4,
 "nbformat_minor": 2
}

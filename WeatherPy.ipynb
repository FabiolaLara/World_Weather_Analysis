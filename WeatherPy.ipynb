{
 "cells": [
  {
   "cell_type": "markdown",
   "id": "73f0fbe0",
   "metadata": {},
   "source": [
    "# 6.1.4 "
   ]
  },
  {
   "cell_type": "markdown",
   "id": "9a3a4de9",
   "metadata": {},
   "source": [
    "## Create Latitude and Longitude Combinations"
   ]
  },
  {
   "cell_type": "code",
   "execution_count": 6,
   "id": "66b9beb0",
   "metadata": {},
   "outputs": [],
   "source": [
    "import pandas as pd\n",
    "import matplotlib.pyplot as plt\n",
    "import numpy as np"
   ]
  },
  {
   "cell_type": "code",
   "execution_count": 7,
   "id": "151a9031",
   "metadata": {},
   "outputs": [
    {
     "data": {
      "text/plain": [
       "<zip at 0x7f7d744c1690>"
      ]
     },
     "execution_count": 7,
     "metadata": {},
     "output_type": "execute_result"
    }
   ],
   "source": [
    "# We'll add the code that generates the latitudes and longitudes\n",
    "#we'll pack the latitudes (lats) and longitudes (lngs) as pairs by zipping them\n",
    "#(lat_lngs) with the zip() function.\n",
    "\n",
    "lats = np.random.uniform(low = -90.000, high = 90.000, size = 1500)\n",
    "lngs = np.random.uniform(low = -90.000, high = 90.000, size = 1500)\n",
    "lats_lngs = zip(lats, lngs)\n",
    "lats_lngs"
   ]
  },
  {
   "cell_type": "code",
   "execution_count": 8,
   "id": "68f34599",
   "metadata": {},
   "outputs": [
    {
     "name": "stdout",
     "output_type": "stream",
     "text": [
      "<zip object at 0x7f7d744c1690>\n"
     ]
    }
   ],
   "source": [
    "print(lats_lngs)"
   ]
  },
  {
   "cell_type": "code",
   "execution_count": null,
   "id": "85b44aa2",
   "metadata": {},
   "outputs": [],
   "source": [
    "#The zip object packs each pair of lats and lngs having the same index in their respective array into a tuple.\n",
    "#If there are 1,500 latitudes and longitudes, there will be 1,500 tuples of paired latitudes and longitudes, \n",
    "#where each latitude and longitude in a tuple can be accessed by the index of 0 and 1, respectively."
   ]
  },
  {
   "cell_type": "code",
   "execution_count": 30,
   "id": "98e3f455",
   "metadata": {},
   "outputs": [
    {
     "name": "stdout",
     "output_type": "stream",
     "text": [
      "-45.95601741583052 -38.88928212302729\n"
     ]
    }
   ],
   "source": [
    "print(lats[0],lngs[0])"
   ]
  },
  {
   "cell_type": "code",
   "execution_count": 10,
   "id": "9d421c66",
   "metadata": {},
   "outputs": [],
   "source": [
    "# Add the latitudes and longitudes to a list.\n",
    "coordinates = list(lats_lngs)"
   ]
  },
  {
   "cell_type": "code",
   "execution_count": 11,
   "id": "21e1625f",
   "metadata": {},
   "outputs": [],
   "source": [
    "%%capture\n",
    "coordinates"
   ]
  },
  {
   "cell_type": "code",
   "execution_count": null,
   "id": "eb66e40a",
   "metadata": {},
   "outputs": [],
   "source": []
  },
  {
   "cell_type": "code",
   "execution_count": 12,
   "id": "cf2dd709",
   "metadata": {},
   "outputs": [
    {
     "data": {
      "text/plain": [
       "1500"
      ]
     },
     "execution_count": 12,
     "metadata": {},
     "output_type": "execute_result"
    }
   ],
   "source": [
    "len(coordinates)  # To count what we convert it into an array or list with np.coordinates"
   ]
  },
  {
   "cell_type": "code",
   "execution_count": 13,
   "id": "4d3515d3",
   "metadata": {},
   "outputs": [
    {
     "data": {
      "text/plain": [
       "1500"
      ]
     },
     "execution_count": 13,
     "metadata": {},
     "output_type": "execute_result"
    }
   ],
   "source": [
    "len(coordinates)"
   ]
  },
  {
   "cell_type": "code",
   "execution_count": 14,
   "id": "8a0cfb19",
   "metadata": {},
   "outputs": [],
   "source": [
    "#print(coordinates)"
   ]
  },
  {
   "cell_type": "markdown",
   "id": "d64f82f8",
   "metadata": {},
   "source": [
    "# 6.1.5 Generate Random World Cities"
   ]
  },
  {
   "cell_type": "code",
   "execution_count": 15,
   "id": "ad74df4b",
   "metadata": {},
   "outputs": [],
   "source": [
    "# Use the citipy module to determine city based on latitude and longitude.\n",
    "from citipy import citipy"
   ]
  },
  {
   "cell_type": "code",
   "execution_count": 31,
   "id": "a6bb38ca",
   "metadata": {},
   "outputs": [
    {
     "data": {
      "text/plain": [
       "617"
      ]
     },
     "execution_count": 31,
     "metadata": {},
     "output_type": "execute_result"
    }
   ],
   "source": [
    "# Create a list for holding the cities.\n",
    "cities = []\n",
    "# Identify the nearest city for each latitude and longitude combination.\n",
    "for coordinate in coordinates:\n",
    "    city = citipy.nearest_city(coordinate[0], coordinate[1]).city_name\n",
    "\n",
    "    # If the city is unique, then we will add it to the cities list.\n",
    "    if city not in cities:\n",
    "        cities.append(city)\n",
    "# Print the city count to confirm sufficient count.\n",
    "len(cities)"
   ]
  },
  {
   "cell_type": "code",
   "execution_count": null,
   "id": "0d50ae13",
   "metadata": {},
   "outputs": [],
   "source": [
    "#%%capture   # To hide the output\n",
    "cities"
   ]
  },
  {
   "cell_type": "markdown",
   "id": "6cb998ee",
   "metadata": {},
   "source": [
    "## 6.2.6 canvas"
   ]
  },
  {
   "cell_type": "markdown",
   "id": "b327aa1e",
   "metadata": {},
   "source": [
    "# Retrieving the weather data from 500+ cities.\n"
   ]
  },
  {
   "cell_type": "code",
   "execution_count": null,
   "id": "b3d78654",
   "metadata": {},
   "outputs": [],
   "source": [
    "#Let's use pseudocode to map out, at a high level, how we will get the weather data for each city for the website.\n",
    "\n",
    "#We will need to do the following:\n",
    "\n",
    "#Import our dependencies and initialize counters and an empty list that will hold the weather data.\n",
    "#Loop through the cities list.\n",
    "#Group the cities in sets of 50 to log the process as we find the weather data for each city.\n",
    "#Two counters will be needed here: one to log the city count from 1 to 50, and another for the sets.\n",
    "#Build the city_url or endpoint for each city.\n",
    "#Log the URL and the record and set numbers.\n",
    "#Make an API request for each city.\n",
    "#Parse the JSON weather data for the following:\n",
    "#City, country, and date\n",
    "#Latitude and longitude\n",
    "#Maximum temperature\n",
    "#Humidity\n",
    "#Cloudiness\n",
    "#Wind speed\n",
    "#Add the data to a list in a dictionary format and then convert the list to a DataFrame."
   ]
  },
  {
   "cell_type": "code",
   "execution_count": 2,
   "id": "d4285094",
   "metadata": {},
   "outputs": [],
   "source": [
    "# Import the requests library.\n",
    "import requests\n",
    "\n",
    "# Import the API key.\n",
    "from config import weather_api_key"
   ]
  },
  {
   "cell_type": "code",
   "execution_count": 17,
   "id": "8cd1a023",
   "metadata": {},
   "outputs": [
    {
     "name": "stdout",
     "output_type": "stream",
     "text": [
      "http://api.openweathermap.org/data/2.5/weather?units=Imperial&APPID=548ee1520fdb60fc6e20dbbfe4aecab2\n"
     ]
    }
   ],
   "source": [
    "# Starting URL for Weather Map API Call.\n",
    "# units=Imperial. There are three unit options: standard, metric, and imperial. \n",
    "#url = \"http://api.openweathermap.org/data/2.5/weather?units=Imperial&APPID=\" + \"548ee1520fdb60fc6e20dbbfe4aecab2\"\n",
    "url = \"http://api.openweathermap.org/data/2.5/weather?units=Imperial&APPID=\" + weather_api_key\n",
    "print(url)"
   ]
  },
  {
   "cell_type": "code",
   "execution_count": 18,
   "id": "87f8ef0e",
   "metadata": {},
   "outputs": [],
   "source": [
    "# Import the time library and the datetime module from the datetime library \n",
    "import time\n",
    "from datetime import datetime"
   ]
  },
  {
   "cell_type": "code",
   "execution_count": null,
   "id": "24a1faac",
   "metadata": {},
   "outputs": [],
   "source": [
    "# At the top of our code block, we are going to declare an empty list, city_data = [];\n",
    "#add a print statement that references the beginning of the logging; and create counters for the record numbers, 1–50;\n",
    "#and the set counter."
   ]
  },
  {
   "cell_type": "code",
   "execution_count": null,
   "id": "1df2d483",
   "metadata": {},
   "outputs": [],
   "source": [
    "# The OpenWeatherMap API only allows 60 calls for per minute on their free tier, so pausing our program \n",
    "#for one minute after each set of 50 will prevent time-out errors."
   ]
  },
  {
   "cell_type": "markdown",
   "id": "fcc8ce62",
   "metadata": {},
   "source": [
    "## Loop Through the List of Cities and Build the City URL, using one for"
   ]
  },
  {
   "cell_type": "code",
   "execution_count": 36,
   "id": "03a51d28",
   "metadata": {},
   "outputs": [
    {
     "name": "stdout",
     "output_type": "stream",
     "text": [
      "Beginning Data Retrieval     \n",
      "-----------------------------\n"
     ]
    },
    {
     "ename": "NameError",
     "evalue": "name 'i' is not defined",
     "output_type": "error",
     "traceback": [
      "\u001b[0;31m---------------------------------------------------------------------------\u001b[0m",
      "\u001b[0;31mNameError\u001b[0m                                 Traceback (most recent call last)",
      "\u001b[0;32m/var/folders/q7/p_1m8x5n7cl93lmxb8f5lt540000gn/T/ipykernel_22857/1026898328.py\u001b[0m in \u001b[0;36m<module>\u001b[0;34m\u001b[0m\n\u001b[1;32m     19\u001b[0m \u001b[0;34m\u001b[0m\u001b[0m\n\u001b[1;32m     20\u001b[0m     \u001b[0;31m# Create endpoint URL with each city.\u001b[0m\u001b[0;34m\u001b[0m\u001b[0;34m\u001b[0m\u001b[0;34m\u001b[0m\u001b[0m\n\u001b[0;32m---> 21\u001b[0;31m \u001b[0mcity_url\u001b[0m \u001b[0;34m=\u001b[0m \u001b[0murl\u001b[0m \u001b[0;34m+\u001b[0m \u001b[0;34m\"&q=\"\u001b[0m \u001b[0;34m+\u001b[0m \u001b[0mcity_data\u001b[0m\u001b[0;34m[\u001b[0m\u001b[0mi\u001b[0m\u001b[0;34m]\u001b[0m\u001b[0;34m\u001b[0m\u001b[0;34m\u001b[0m\u001b[0m\n\u001b[0m\u001b[1;32m     22\u001b[0m     \u001b[0;31m#city_data.append(i)\u001b[0m\u001b[0;34m\u001b[0m\u001b[0;34m\u001b[0m\u001b[0;34m\u001b[0m\u001b[0m\n\u001b[1;32m     23\u001b[0m \u001b[0;34m\u001b[0m\u001b[0m\n",
      "\u001b[0;31mNameError\u001b[0m: name 'i' is not defined"
     ]
    }
   ],
   "source": [
    "# Create an empty list to hold the weather data.\n",
    "city_data = []\n",
    "# Print the beginning of the logging.\n",
    "print(\"Beginning Data Retrieval     \")\n",
    "print(\"-----------------------------\")\n",
    "\n",
    "# Create counters.\n",
    "record_count = 1\n",
    "set_count = 1\n",
    "\n",
    "# Loop through all the cities in our list.\n",
    "for i in range(len(city_data)):\n",
    "\n",
    "    # Group cities in sets of 50 for logging purposes.\n",
    "    if (i % 50 == 0 and i >= 50):\n",
    "        set_count += 1\n",
    "        record_count = 1\n",
    "        time.sleep(60)\n",
    "\n",
    "    # Create endpoint URL with each city.\n",
    "    city_url = url + \"&q=\" + city_data[i]\n",
    "    #city_data.append(i)\n",
    "    \n",
    "#Extra code, made for me\n",
    "print(city_url)\n",
    "    \n",
    "    "
   ]
  },
  {
   "cell_type": "code",
   "execution_count": 26,
   "id": "3dc21baf",
   "metadata": {},
   "outputs": [
    {
     "data": {
      "text/plain": [
       "0"
      ]
     },
     "execution_count": 26,
     "metadata": {},
     "output_type": "execute_result"
    }
   ],
   "source": [
    "len(city_data)"
   ]
  },
  {
   "cell_type": "markdown",
   "id": "93be4360",
   "metadata": {},
   "source": [
    "## Loop Through the List of Cities and Build the City URL, using instead of two for,  we will use enumerate()  method"
   ]
  },
  {
   "cell_type": "code",
   "execution_count": 33,
   "id": "fbaddaf9",
   "metadata": {},
   "outputs": [
    {
     "name": "stdout",
     "output_type": "stream",
     "text": [
      "Beginning Data Retrieval     \n",
      "-----------------------------\n",
      "-----------------------------\n",
      "Data Retrieval Complete      \n",
      "-----------------------------\n"
     ]
    }
   ],
   "source": [
    "# Create an empty list to hold the weather data.\n",
    "city_data = []\n",
    "# Print the beginning of the logging.\n",
    "print(\"Beginning Data Retrieval     \")\n",
    "print(\"-----------------------------\")\n",
    "\n",
    "# Create counters.\n",
    "record_count = 1\n",
    "set_count = 1\n",
    "\n",
    "# step 2\n",
    "# Loop through all the cities in the list.\n",
    "# Enumerate allows to iterate through the list of cities and retrieve both the index, and the city from the list.\n",
    "for i, city in enumerate(city_data):\n",
    "\n",
    "    # Group cities in sets of 50 for logging purposes.\n",
    "    if (i % 50 == 0 and i >= 50):\n",
    "        set_count += 1\n",
    "        record_count = 1\n",
    "        time.sleep(60)\n",
    "\n",
    "    # Create endpoint URL with each city.\n",
    "    city_url = url + \"&q=\" + city_data.replace(\" \",\"+\")\n",
    "    #city_url = url + \"&q=\" + city_data[city]  # Lets see if it works at home\n",
    "\n",
    "    # Log the URL, record, and set numbers and the city.\n",
    "    print(f\"Processing Record {record_count} of Set {set_count} | {city_data}\")\n",
    "    # Add 1 to the record count.\n",
    "    record_count += 1\n",
    "    \n",
    "#Step 3\n",
    "# Run an API request for each of the cities.\n",
    "    try:\n",
    "        # Parse the JSON and retrieve data.\n",
    "        city_weather = requests.get(city_url).json()              # Get all the url\n",
    "        # Parse out the needed data.\n",
    "        city_lat = city_weather[\"coord\"][\"lat\"]                   # We acces to the dictionary of each url to get the\n",
    "        city_lng = city_weather[\"coord\"][\"lon\"]                   # required fields\n",
    "        city_max_temp = city_weather[\"main\"][\"temp_max\"]\n",
    "        city_humidity = city_weather[\"main\"][\"humidity\"]\n",
    "        city_clouds = city_weather[\"clouds\"][\"all\"]\n",
    "        city_wind = city_weather[\"wind\"][\"speed\"]\n",
    "        city_country = city_weather[\"sys\"][\"country\"]\n",
    "        # Convert the date to ISO standard.\n",
    "        city_date = datetime.utcfromtimestamp(city_weather[\"dt\"]).strftime('%Y-%m-%d %H:%M:%S')\n",
    "        # Append the city information into city_data list.\n",
    "        city_data.append({\"City\": city.title(),\n",
    "                          \"Lat\": city_lat,\n",
    "                          \"Lng\": city_lng,\n",
    "                          \"Max Temp\": city_max_temp,\n",
    "                          \"Humidity\": city_humidity,\n",
    "                          \"Cloudiness\": city_clouds,\n",
    "                          \"Wind Speed\": city_wind,\n",
    "                          \"Country\": city_country,\n",
    "                          \"Date\": city_date})\n",
    "\n",
    "# If an error is experienced, skip the city.\n",
    "    except:\n",
    "        print(\"City not found. Skipping...\")\n",
    "        pass                                                       # Is a genral purpose statement to handle or catch\n",
    "                                                                   # all errors encountered and allow the program\n",
    "# Indicate that Data Loading is complete.                          # to continue.\n",
    "print(\"-----------------------------\")\n",
    "print(\"Data Retrieval Complete      \")\n",
    "print(\"-----------------------------\")"
   ]
  },
  {
   "cell_type": "code",
   "execution_count": 34,
   "id": "1b772134",
   "metadata": {},
   "outputs": [
    {
     "data": {
      "text/plain": [
       "0"
      ]
     },
     "execution_count": 34,
     "metadata": {},
     "output_type": "execute_result"
    }
   ],
   "source": [
    "# Number of cities\n",
    "len(city_data)"
   ]
  },
  {
   "cell_type": "code",
   "execution_count": 35,
   "id": "8214f989",
   "metadata": {},
   "outputs": [
    {
     "data": {
      "text/plain": [
       "[]"
      ]
     },
     "execution_count": 35,
     "metadata": {},
     "output_type": "execute_result"
    }
   ],
   "source": [
    "city_data"
   ]
  },
  {
   "cell_type": "markdown",
   "id": "47b03c6a",
   "metadata": {},
   "source": [
    "## Create a DataFrame of City Weather Data\n",
    "#### Recall that we can convert a list of dictionaries to a Pandas DataFrame using df = pd.DataFrame(list with dictionaries)."
   ]
  },
  {
   "cell_type": "code",
   "execution_count": null,
   "id": "84c4dd82",
   "metadata": {},
   "outputs": [],
   "source": [
    "# We have all the data in a dictionary, which is a format that you can use to create a Pandas DatFrame.\n",
    "# pd.DataFrame(list with dictionaries)\n",
    "# Then we have to export the DataFrame as CSV file.\n",
    "\n",
    "# Convert the array of dictionareis to a Pandas DataFrame.\n",
    "city_data_df = pd.DataFrame(city_data)\n",
    "city_data_df.head(10)"
   ]
  },
  {
   "cell_type": "markdown",
   "id": "39ab2cbb",
   "metadata": {},
   "source": [
    "## Reorder columns\n",
    "#### Reorder as City, Country, Date, Lat, Lng, Max, Temp, Humidity, Cloudiness and Wind Speed\n",
    "#### To reorder the columns we assign a variable to an array of the columns in the order we want them to appear:\n",
    "## new_column_order = [\"column2\", \"column4\", \"column1\"]\n",
    "#### then, we assign a new or the same DataFrame with new column order:\n",
    "## df = df[new_column_order]"
   ]
  },
  {
   "cell_type": "code",
   "execution_count": null,
   "id": "8c17aae4",
   "metadata": {},
   "outputs": [],
   "source": [
    "new_column_order = [\"City\", \"Country\", \"Date\", \"Lat\", \"Lng\", \"Max Temp\", \"Humidity\", \"Cloudiness\", \"Wind Speed\"]\n",
    "city_data_df = city_data_df[new_column_order]"
   ]
  },
  {
   "cell_type": "code",
   "execution_count": null,
   "id": "5c57eb39",
   "metadata": {},
   "outputs": [],
   "source": [
    "# To save the DataFrame as a CSV "
   ]
  },
  {
   "cell_type": "code",
   "execution_count": null,
   "id": "a98f1f5a",
   "metadata": {},
   "outputs": [],
   "source": [
    "# We have all the data in a dictionary, which is a format that you can use to create a Pandas DatFrame. \n",
    "# Then we have to export the DataFrame as CSV file for Jack. But first we have to creat an output.\n",
    "# Create the output file (CSV).\n",
    "output_data_file = \"weather_data/cities.csv\"\n",
    "# Export the City_Data into a CSV.\n",
    "city_data_df.to_csv(output_data_file, index_label=\"City_ID\")\n",
    "#The last line in the code block will export the DataFrame to a CSV file, \n",
    "#with the index label (or column A) header as \"City_ID.\" If we ever need to export the CSV file to a DataFrame,\n",
    "#that header will be present in the DataFrame"
   ]
  },
  {
   "cell_type": "code",
   "execution_count": null,
   "id": "5ed934fd",
   "metadata": {},
   "outputs": [],
   "source": [
    "# update GIT HUB repo"
   ]
  },
  {
   "cell_type": "code",
   "execution_count": null,
   "id": "411acf4d",
   "metadata": {},
   "outputs": [],
   "source": [
    "# We can add the files that we dont want to be tracked to the .gitignore file.\n",
    "# GitHub doesn´t track files and extensions that are added to the .gitignore file\n",
    "# 1. Open the World_Weather_Analysis file in Visula Code\n",
    "# 2. Open de .gitignore file\n",
    "# 3. Add the next lines at the very begginig of the file:\n",
    "#   # Adding config.py file\n",
    "#    config.py\n",
    "\n",
    "    # Adding additional files.\n",
    "#    API_practice.ipynb\n",
    " #   random_numbers.ipynb"
   ]
  },
  {
   "cell_type": "markdown",
   "id": "4c4064dd",
   "metadata": {},
   "source": [
    "# 6.3.1 Plot Latitude vs. Temperature\n"
   ]
  },
  {
   "cell_type": "markdown",
   "id": "445e87e4",
   "metadata": {},
   "source": [
    "## Get Data for Plotting"
   ]
  },
  {
   "cell_type": "code",
   "execution_count": 46,
   "id": "8883bcd0",
   "metadata": {},
   "outputs": [
    {
     "ename": "NameError",
     "evalue": "name 'city_data_df' is not defined",
     "output_type": "error",
     "traceback": [
      "\u001b[0;31m---------------------------------------------------------------------------\u001b[0m",
      "\u001b[0;31mNameError\u001b[0m                                 Traceback (most recent call last)",
      "\u001b[0;32m/var/folders/q7/p_1m8x5n7cl93lmxb8f5lt540000gn/T/ipykernel_22857/3806651253.py\u001b[0m in \u001b[0;36m<module>\u001b[0;34m\u001b[0m\n\u001b[1;32m      1\u001b[0m \u001b[0;31m# Extract relevant fields from the DataFrame for plotting.\u001b[0m\u001b[0;34m\u001b[0m\u001b[0;34m\u001b[0m\u001b[0;34m\u001b[0m\u001b[0m\n\u001b[1;32m      2\u001b[0m \u001b[0;31m# To extract data froma DataFrame we jus name de DataFrame, between square brackets we write the name of the column.\u001b[0m\u001b[0;34m\u001b[0m\u001b[0;34m\u001b[0m\u001b[0;34m\u001b[0m\u001b[0m\n\u001b[0;32m----> 3\u001b[0;31m \u001b[0mlats\u001b[0m \u001b[0;34m=\u001b[0m \u001b[0mcity_data_df\u001b[0m\u001b[0;34m[\u001b[0m\u001b[0;34m\"Lat\"\u001b[0m\u001b[0;34m]\u001b[0m\u001b[0;34m\u001b[0m\u001b[0;34m\u001b[0m\u001b[0m\n\u001b[0m\u001b[1;32m      4\u001b[0m \u001b[0mmax_temps\u001b[0m \u001b[0;34m=\u001b[0m \u001b[0mcity_data_df\u001b[0m\u001b[0;34m[\u001b[0m\u001b[0;34m\"Max Temp\"\u001b[0m\u001b[0;34m]\u001b[0m\u001b[0;34m\u001b[0m\u001b[0;34m\u001b[0m\u001b[0m\n\u001b[1;32m      5\u001b[0m \u001b[0mhumidity\u001b[0m \u001b[0;34m=\u001b[0m \u001b[0mcity_data_df\u001b[0m\u001b[0;34m[\u001b[0m\u001b[0;34m\"Humidity\"\u001b[0m\u001b[0;34m]\u001b[0m\u001b[0;34m\u001b[0m\u001b[0;34m\u001b[0m\u001b[0m\n",
      "\u001b[0;31mNameError\u001b[0m: name 'city_data_df' is not defined"
     ]
    }
   ],
   "source": [
    "# Extract relevant fields from the DataFrame for plotting.\n",
    "# To extract data froma DataFrame we jus name de DataFrame, between square brackets we write the name of the column.\n",
    "lats = city_data_df[\"Lat\"]\n",
    "max_temps = city_data_df[\"Max Temp\"]\n",
    "humidity = city_data_df[\"Humidity\"]\n",
    "cloudiness = city_data_df[\"Cloudiness\"]\n",
    "wind_speed = city_data_df[\"Win Speed\"]"
   ]
  },
  {
   "cell_type": "markdown",
   "id": "2aceb3fa",
   "metadata": {},
   "source": [
    "### To add current date in the title"
   ]
  },
  {
   "cell_type": "code",
   "execution_count": 47,
   "id": "6ffb6d4e",
   "metadata": {},
   "outputs": [
    {
     "ename": "NameError",
     "evalue": "name 'max_temps' is not defined",
     "output_type": "error",
     "traceback": [
      "\u001b[0;31m---------------------------------------------------------------------------\u001b[0m",
      "\u001b[0;31mNameError\u001b[0m                                 Traceback (most recent call last)",
      "\u001b[0;32m/var/folders/q7/p_1m8x5n7cl93lmxb8f5lt540000gn/T/ipykernel_22857/2306291289.py\u001b[0m in \u001b[0;36m<module>\u001b[0;34m\u001b[0m\n\u001b[1;32m      4\u001b[0m \u001b[0;31m# Build the scatter plot for latitude vs. max temperature.\u001b[0m\u001b[0;34m\u001b[0m\u001b[0;34m\u001b[0m\u001b[0;34m\u001b[0m\u001b[0m\n\u001b[1;32m      5\u001b[0m plt.scatter(lats,\n\u001b[0;32m----> 6\u001b[0;31m             \u001b[0mmax_temps\u001b[0m\u001b[0;34m,\u001b[0m\u001b[0;34m\u001b[0m\u001b[0;34m\u001b[0m\u001b[0m\n\u001b[0m\u001b[1;32m      7\u001b[0m             \u001b[0medgecolor\u001b[0m\u001b[0;34m=\u001b[0m\u001b[0;34m\"black\"\u001b[0m\u001b[0;34m,\u001b[0m \u001b[0mlinewidths\u001b[0m\u001b[0;34m=\u001b[0m\u001b[0;36m1\u001b[0m\u001b[0;34m,\u001b[0m \u001b[0mmarker\u001b[0m\u001b[0;34m=\u001b[0m\u001b[0;34m\"o\"\u001b[0m\u001b[0;34m,\u001b[0m\u001b[0;34m\u001b[0m\u001b[0;34m\u001b[0m\u001b[0m\n\u001b[1;32m      8\u001b[0m             alpha=0.8, label=\"Cities\")\n",
      "\u001b[0;31mNameError\u001b[0m: name 'max_temps' is not defined"
     ]
    }
   ],
   "source": [
    "# Import time module\n",
    "import time\n",
    "\n",
    "# Build the scatter plot for latitude vs. max temperature.\n",
    "plt.scatter(lats,\n",
    "            max_temps,\n",
    "            edgecolor=\"black\", linewidths=1, marker=\"o\",\n",
    "            alpha=0.8, label=\"Cities\")\n",
    "\n",
    "# Incorporate the other graph properties.\n",
    "plt.title(f\"City Latitude vs. Max Temperature \"+ time.strftime(\"%x\"))\n",
    "plt.ylabel(\"Max Temperature (F)\")\n",
    "plt.xlabel(\"Latitude\")\n",
    "plt.grid(True)\n",
    "\n",
    "# Save the figure.\n",
    "plt.savefig(\"weather_data/lats_max_temp.png\")\n",
    "\n",
    "# Show plot.\n",
    "plt.show()"
   ]
  },
  {
   "cell_type": "code",
   "execution_count": null,
   "id": "96ddc3d0",
   "metadata": {},
   "outputs": [],
   "source": [
    "# Build the scatter plot for latitude vs. humidity\n",
    "plt.scatter(lats,\n",
    "            humidity,\n",
    "            edgecolor=\"black\", linewidths=1, marker=\"o\",\n",
    "            alpha=0.8, label=\"Cities\")\n",
    "\n",
    "# Incorporate the other graph properties.\n",
    "plt.title(f\"City Latitude vs. Humidity \"+ time.strftime(\"%x\"))\n",
    "plt.ylabel(\"Humidity (%)\")\n",
    "plt.xlabel(\"Latitude\")\n",
    "plt.grid(True)\n",
    "\n",
    "# Save the figure.\n",
    "plt.savefig(\"weather_data/lats_humidity.png\")\n",
    "\n",
    "# Show plot.\n",
    "plt.show()"
   ]
  },
  {
   "cell_type": "code",
   "execution_count": null,
   "id": "f0519a6a",
   "metadata": {},
   "outputs": [],
   "source": [
    "# Build the scatter plot for latitude vs. cloudiness\n",
    "plt.scatter(lats,\n",
    "            cloudiness,\n",
    "            edgecolor=\"black\", linewidths=1, marker=\"o\",\n",
    "            alpha=0.8, label=\"Cities\")\n",
    "\n",
    "# Incorporate the other graph properties.\n",
    "plt.title(f\"City Latitude vs. Cloudiness \"+ time.strftime(\"%x\"))\n",
    "plt.ylabel(\"Cloudiness\")\n",
    "plt.xlabel(\"Latitude\")\n",
    "plt.grid(True)\n",
    "\n",
    "# Save the figure.\n",
    "plt.savefig(\"weather_data/lats_cloudiness.png\")\n",
    "\n",
    "# Show plot.\n",
    "plt.show()"
   ]
  },
  {
   "cell_type": "code",
   "execution_count": null,
   "id": "de6de78d",
   "metadata": {},
   "outputs": [],
   "source": [
    "# Build the scatter plot for latitude vs. wind speed\n",
    "plt.scatter(lats,\n",
    "            wind_speed,\n",
    "            edgecolor=\"black\", linewidths=1, marker=\"o\",\n",
    "            alpha=0.8, label=\"Cities\")\n",
    "\n",
    "# Incorporate the other graph properties.\n",
    "plt.title(f\"City Latitude vs. Wind Speed \"+ time.strftime(\"%x\"))\n",
    "plt.ylabel(\"Wind Speed (mph)\")\n",
    "plt.xlabel(\"Latitude\")\n",
    "plt.grid(True)\n",
    "\n",
    "# Save the figure.\n",
    "plt.savefig(\"weather_data/lats_wind_speed.png\")\n",
    "\n",
    "# Show plot.\n",
    "plt.show()"
   ]
  },
  {
   "cell_type": "markdown",
   "id": "4a7964da",
   "metadata": {},
   "source": [
    "# Use Linear Regression to Find the Relationship Between Variables\n",
    "#### How to determine correlations between weather data and latitude."
   ]
  },
  {
   "cell_type": "markdown",
   "id": "1c264a37",
   "metadata": {},
   "source": [
    "## Create a Linear Regression Function"
   ]
  },
  {
   "cell_type": "code",
   "execution_count": 49,
   "id": "714cbbdc",
   "metadata": {},
   "outputs": [],
   "source": [
    "# Import linregress\n",
    "from scipy.stats import linregress\n",
    "\n",
    "# Create a function to create perform linear regression on the weather data\n",
    "# and plot a regression line and the equation with the data.\n",
    "def plot_linear_regression(x_values, y_values, title, y_label, text_coordinates):\n",
    "    \n",
    "     # Run regression on hemisphere weather data.\n",
    "    (slope, intercept, r_value, p_value, std_err) = linregress(x_values, y_values)\n",
    "\n",
    "    # Calculate the regression line \"y values\" from the slope and intercept.\n",
    "    regress_values = x_values * slope + intercept\n",
    "    # Get the equation of the line.\n",
    "    line_eq = \"y = \" + str(round(slope,2)) + \"x + \" + str(round(intercept,2))\n",
    "    # Create a scatter plot and plot the regression line.\n",
    "    plt.scatter(x_values,y_values)\n",
    "    plt.plot(x_values,regress_values,\"r\")\n",
    "    # Annotate the text for the line equation.\n",
    "    plt.annotate(line_eq, text_coordinates, fontsize=15, color=\"red\")\n",
    "    plt.title(title)\n",
    "    plt.xlabel('Latitude')\n",
    "    plt.ylabel(y_label)\n",
    "    plt.show()"
   ]
  },
  {
   "cell_type": "code",
   "execution_count": 51,
   "id": "0b36cd08",
   "metadata": {},
   "outputs": [
    {
     "ename": "NameError",
     "evalue": "name 'Pitssburg' is not defined",
     "output_type": "error",
     "traceback": [
      "\u001b[0;31m---------------------------------------------------------------------------\u001b[0m",
      "\u001b[0;31mNameError\u001b[0m                                 Traceback (most recent call last)",
      "\u001b[0;32m/var/folders/q7/p_1m8x5n7cl93lmxb8f5lt540000gn/T/ipykernel_22857/115615373.py\u001b[0m in \u001b[0;36m<module>\u001b[0;34m\u001b[0m\n\u001b[0;32m----> 1\u001b[0;31m \u001b[0mplot_linear_regression\u001b[0m\u001b[0;34m(\u001b[0m\u001b[0;36m40\u001b[0m\u001b[0;34m,\u001b[0m\u001b[0;36m20\u001b[0m\u001b[0;34m,\u001b[0m\u001b[0mPitssburg\u001b[0m\u001b[0;34m,\u001b[0m \u001b[0mLatitude\u001b[0m\u001b[0;34m,\u001b[0m \u001b[0mbb\u001b[0m\u001b[0;34m)\u001b[0m\u001b[0;34m\u001b[0m\u001b[0;34m\u001b[0m\u001b[0m\n\u001b[0m",
      "\u001b[0;31mNameError\u001b[0m: name 'Pitssburg' is not defined"
     ]
    }
   ],
   "source": [
    "# We call the function, so we have to enter 5 values\n",
    "plot_linear_regression(value1, value2, value3, value4, value5)"
   ]
  },
  {
   "cell_type": "markdown",
   "id": "ea04fc77",
   "metadata": {},
   "source": [
    "# Create the Hemisphere DataFrames\n"
   ]
  },
  {
   "cell_type": "code",
   "execution_count": 53,
   "id": "1353ea4b",
   "metadata": {},
   "outputs": [],
   "source": [
    "# We will need to create Northern Hemisphere DataFrames from the city_data_df DataFrame.\n",
    "# o create a new DataFrame from a current DataFrame, we can use the loc method on the current DataFrame. \n",
    "#The loc method accesses a group of rows and columns in the current DataFrame by an index, labels, \n",
    "#or a Boolean array. The syntax to get a specific row from a current DataFrame is row = df.loc[row_index]"
   ]
  },
  {
   "cell_type": "code",
   "execution_count": 54,
   "id": "47f0a28c",
   "metadata": {},
   "outputs": [
    {
     "ename": "NameError",
     "evalue": "name 'city_data_df' is not defined",
     "output_type": "error",
     "traceback": [
      "\u001b[0;31m---------------------------------------------------------------------------\u001b[0m",
      "\u001b[0;31mNameError\u001b[0m                                 Traceback (most recent call last)",
      "\u001b[0;32m/var/folders/q7/p_1m8x5n7cl93lmxb8f5lt540000gn/T/ipykernel_22857/612163934.py\u001b[0m in \u001b[0;36m<module>\u001b[0;34m\u001b[0m\n\u001b[0;32m----> 1\u001b[0;31m \u001b[0mindex13\u001b[0m \u001b[0;34m=\u001b[0m \u001b[0mcity_data_df\u001b[0m\u001b[0;34m.\u001b[0m\u001b[0mloc\u001b[0m\u001b[0;34m[\u001b[0m\u001b[0;36m13\u001b[0m\u001b[0;34m]\u001b[0m\u001b[0;34m\u001b[0m\u001b[0;34m\u001b[0m\u001b[0m\n\u001b[0m",
      "\u001b[0;31mNameError\u001b[0m: name 'city_data_df' is not defined"
     ]
    }
   ],
   "source": [
    "index13 = city_data_df.loc[13]"
   ]
  },
  {
   "cell_type": "code",
   "execution_count": null,
   "id": "9f17bbd0",
   "metadata": {},
   "outputs": [],
   "source": [
    "# If we want to return a DataFrame with all data fitting the criteria, for latitudes greater than or equal to 0,\n",
    "#we can use the loc method on the city_data_df DataFrame. Inside the brackets, we would add the conditional\n",
    "#filter city_data_df[\"Lat\"] >= 0 "
   ]
  },
  {
   "cell_type": "code",
   "execution_count": 55,
   "id": "b9e98983",
   "metadata": {},
   "outputs": [
    {
     "ename": "NameError",
     "evalue": "name 'city_data_df' is not defined",
     "output_type": "error",
     "traceback": [
      "\u001b[0;31m---------------------------------------------------------------------------\u001b[0m",
      "\u001b[0;31mNameError\u001b[0m                                 Traceback (most recent call last)",
      "\u001b[0;32m/var/folders/q7/p_1m8x5n7cl93lmxb8f5lt540000gn/T/ipykernel_22857/1873674456.py\u001b[0m in \u001b[0;36m<module>\u001b[0;34m\u001b[0m\n\u001b[0;32m----> 1\u001b[0;31m \u001b[0mcity_data_df\u001b[0m\u001b[0;34m.\u001b[0m\u001b[0mloc\u001b[0m\u001b[0;34m[\u001b[0m\u001b[0;34m(\u001b[0m\u001b[0mcity_data_df\u001b[0m\u001b[0;34m[\u001b[0m\u001b[0;34m\"Lat\"\u001b[0m\u001b[0;34m]\u001b[0m \u001b[0;34m>=\u001b[0m \u001b[0;36m0\u001b[0m\u001b[0;34m)\u001b[0m\u001b[0;34m]\u001b[0m\u001b[0;34m\u001b[0m\u001b[0;34m\u001b[0m\u001b[0m\n\u001b[0m",
      "\u001b[0;31mNameError\u001b[0m: name 'city_data_df' is not defined"
     ]
    }
   ],
   "source": [
    "city_data_df.loc[(city_data_df[\"Lat\"] >= 0)]"
   ]
  },
  {
   "cell_type": "code",
   "execution_count": null,
   "id": "72ea5225",
   "metadata": {},
   "outputs": [],
   "source": [
    "city_data_df.loc[(city_data_df[\"Lat\"] >= 0)].head()"
   ]
  },
  {
   "cell_type": "code",
   "execution_count": null,
   "id": "4e717ec7",
   "metadata": {},
   "outputs": [],
   "source": [
    "# Now assign this DataFrame to the variable northern_hemi_df to access the data to perform linear regression.\n",
    "# Create Northern and Southern Hemisphere DataFrames.\n",
    "northern_hemi_df = city_data_df.loc[(city_data_df[\"Lat\"] >= 0)]\n",
    "southern_hemi_df = city_data_df.loc[(city_data_df[\"Lat\"] < 0)]"
   ]
  },
  {
   "cell_type": "markdown",
   "id": "4e5d19fa",
   "metadata": {},
   "source": [
    "# Perform Linear Regression on the Maximum Temperature for the Northern Hemisphere"
   ]
  },
  {
   "cell_type": "code",
   "execution_count": 57,
   "id": "8033569f",
   "metadata": {},
   "outputs": [
    {
     "ename": "NameError",
     "evalue": "name 'northern_hemi_df' is not defined",
     "output_type": "error",
     "traceback": [
      "\u001b[0;31m---------------------------------------------------------------------------\u001b[0m",
      "\u001b[0;31mNameError\u001b[0m                                 Traceback (most recent call last)",
      "\u001b[0;32m/var/folders/q7/p_1m8x5n7cl93lmxb8f5lt540000gn/T/ipykernel_22857/3383327484.py\u001b[0m in \u001b[0;36m<module>\u001b[0;34m\u001b[0m\n\u001b[1;32m      3\u001b[0m \u001b[0;31m# Linear regression on the Northern Hemisphere\u001b[0m\u001b[0;34m\u001b[0m\u001b[0;34m\u001b[0m\u001b[0;34m\u001b[0m\u001b[0m\n\u001b[1;32m      4\u001b[0m \u001b[0;34m\u001b[0m\u001b[0m\n\u001b[0;32m----> 5\u001b[0;31m \u001b[0mx_values\u001b[0m \u001b[0;34m=\u001b[0m \u001b[0mnorthern_hemi_df\u001b[0m\u001b[0;34m[\u001b[0m\u001b[0;34m\"Lat\"\u001b[0m\u001b[0;34m]\u001b[0m\u001b[0;34m\u001b[0m\u001b[0;34m\u001b[0m\u001b[0m\n\u001b[0m\u001b[1;32m      6\u001b[0m \u001b[0my_values\u001b[0m \u001b[0;34m=\u001b[0m \u001b[0mnorthern_hemi_df\u001b[0m\u001b[0;34m[\u001b[0m\u001b[0;34m\"Max Temp\"\u001b[0m\u001b[0;34m]\u001b[0m\u001b[0;34m\u001b[0m\u001b[0;34m\u001b[0m\u001b[0m\n\u001b[1;32m      7\u001b[0m \u001b[0;31m# Call the function.\u001b[0m\u001b[0;34m\u001b[0m\u001b[0;34m\u001b[0m\u001b[0;34m\u001b[0m\u001b[0m\n",
      "\u001b[0;31mNameError\u001b[0m: name 'northern_hemi_df' is not defined"
     ]
    }
   ],
   "source": [
    "#  we'll need x and y values. Set the x values equal to the latitude column and the y values equal to \n",
    "#the maximum temperature column from the northern_hemi_df DataFrame.\n",
    "# Linear regression on the Northern Hemisphere\n",
    "\n",
    "x_values = northern_hemi_df[\"Lat\"]\n",
    "y_values = northern_hemi_df[\"Max Temp\"]\n",
    "# Call the function.\n",
    "plot_linear_regression(x_values, y_values,\n",
    "                       'Linear Regression on the Northern Hemisphere \\\n",
    "                        for Maximum Temperature', 'Max Temp',(10,40))"
   ]
  },
  {
   "cell_type": "code",
   "execution_count": null,
   "id": "fe70d19f",
   "metadata": {},
   "outputs": [],
   "source": [
    "# Linear regression on the Southern Hemisphere\n",
    "x_values = southern_hemi_df[\"Lat\"]\n",
    "y_values = southern_hemi_df[\"Max Temp\"]\n",
    "# Call the function.\n",
    "plot_linear_regression(x_values, y_values,\n",
    "                       'Linear Regression on the Southern Hemisphere \\\n",
    "                        for Maximum Temperature', 'Max Temp',(-50,90))"
   ]
  },
  {
   "cell_type": "markdown",
   "id": "00dda170",
   "metadata": {},
   "source": [
    "The correlation between the latitude and the maximum temperature is strong to very strong because the r-value is less than –0.7 for the Northern Hemisphere and greater than 0.7 for the Southern Hemisphere, as shown by the plots here. This means that as we approach the equator, 0° latitude, the temperatures become warmer. And when we are further from the equator the temperatures become cooler. Check the r-values for your plots."
   ]
  },
  {
   "cell_type": "markdown",
   "id": "4d1360e0",
   "metadata": {},
   "source": [
    "# 6.4.3 Find the Correlation Between Latitude and Percent Humidity"
   ]
  },
  {
   "cell_type": "code",
   "execution_count": null,
   "id": "575e8038",
   "metadata": {},
   "outputs": [],
   "source": [
    "# Linear regression on the Northern Hemisphere\n",
    "x_values = northern_hemi_df[\"Lat\"]\n",
    "y_values = northern_hemi_df[\"Humidity\"]\n",
    "# Call the function.\n",
    "plot_linear_regression(x_values, y_values,\n",
    "                       'Linear Regression on the Northern Hemisphere \\\n",
    "                        for % Humidity', '% Humidity',(40,10))"
   ]
  },
  {
   "cell_type": "code",
   "execution_count": 58,
   "id": "70f68640",
   "metadata": {},
   "outputs": [
    {
     "ename": "SyntaxError",
     "evalue": "invalid syntax (960220498.py, line 3)",
     "output_type": "error",
     "traceback": [
      "\u001b[0;36m  File \u001b[0;32m\"/var/folders/q7/p_1m8x5n7cl93lmxb8f5lt540000gn/T/ipykernel_22857/960220498.py\"\u001b[0;36m, line \u001b[0;32m3\u001b[0m\n\u001b[0;31m    Call the plot_linear_regression function, with the x-and y-values, and edit the title, y_label, and text_coordinates for the percent humidity scatter plot.\u001b[0m\n\u001b[0m           ^\u001b[0m\n\u001b[0;31mSyntaxError\u001b[0m\u001b[0;31m:\u001b[0m invalid syntax\n"
     ]
    }
   ],
   "source": [
    "# For our linear regression line and plot of the percent humidity and latitudes for the Southern Hemisphere,\n",
    "# set the x-value equal to the latitude column and y-value equal to the humidity column from the\n",
    "# southern_hemi_df DataFrame.\n",
    "# Call the plot_linear_regression function, with the x-and y-values, and edit the title, y_label, \n",
    "# and text_coordinates for the percent humidity scatter plot."
   ]
  },
  {
   "cell_type": "code",
   "execution_count": null,
   "id": "cdad01b0",
   "metadata": {},
   "outputs": [],
   "source": [
    "# Linear regression on the Southern Hemisphere\n",
    "x_values = southern_hemi_df[\"Lat\"]\n",
    "y_values = southern_hemi_df[\"Humidity\"]\n",
    "# Call the function.\n",
    "plot_linear_regression(x_values, y_values,\n",
    "                       'Linear Regression on the Southern Hemisphere \\\n",
    "                        for % Humidity', '% Humidity',(-50,15))\n",
    "# Annotate the text for the line equation and add its coordinates.\n",
    "plt.annotate(line_eq, (10,40), fontsize=15, color=\"red\")\n",
    "plt.title(title)\n",
    "plt.xlabel('Latitude')\n",
    "plt.ylabel('Humidity')\n",
    "plt.show()"
   ]
  },
  {
   "cell_type": "markdown",
   "id": "2df563d6",
   "metadata": {},
   "source": [
    "# 6.4.4 Find the Correlation Between Latitude and Percent Cloudiness"
   ]
  },
  {
   "cell_type": "code",
   "execution_count": null,
   "id": "39c5b06a",
   "metadata": {},
   "outputs": [],
   "source": [
    "# Linear regression on the Northern Hemisphere\n",
    "x_values = northern_hemi_df[\"Lat\"]\n",
    "y_values = northern_hemi_df[\"Cloudiness\"]\n",
    "# Call the function.\n",
    "plot_linear_regression(x_values, y_values,\n",
    "                       'Linear Regression on the Northern Hemisphere \\\n",
    "                        for % Cloudiness', '% Cloudiness',(40,10))"
   ]
  },
  {
   "cell_type": "code",
   "execution_count": null,
   "id": "f1195986",
   "metadata": {},
   "outputs": [],
   "source": [
    "# Linear regression on the Southern Hemisphere\n",
    "x_values = southern_hemi_df[\"Lat\"]\n",
    "y_values = southern_hemi_df[\"Cloudiness\"]\n",
    "# Call the function.\n",
    "plot_linear_regression(x_values, y_values,\n",
    "                       'Linear Regression on the Southern Hemisphere \\\n",
    "                        for % Cloudiness', '% Cloudiness',(-50,15))\n",
    "# Annotate the text for the line equation and add its coordinates.\n",
    "plt.annotate(line_eq, (10,40), fontsize=15, color=\"red\")\n",
    "plt.title(title)\n",
    "plt.xlabel('Latitude')\n",
    "plt.ylabel('Cloudiness')\n",
    "plt.show()"
   ]
  },
  {
   "cell_type": "markdown",
   "id": "4e1cfe40",
   "metadata": {},
   "source": [
    "# Perform Linear Regression on the Percent Cloudiness for the Southern Hemisphere"
   ]
  },
  {
   "cell_type": "code",
   "execution_count": null,
   "id": "cf6d7eb9",
   "metadata": {},
   "outputs": [],
   "source": [
    "# Linear regression on the Southern Hemisphere\n",
    "x_values = southern_hemi_df[\"Lat\"]\n",
    "y_values = southern_hemi_df[\"Cloudiness\"]\n",
    "# Call the function.\n",
    "plot_linear_regression(x_values, y_values,\n",
    "                       'Linear Regression on the Southern Hemisphere \\\n",
    "                        for % Cloudiness', '% Cloudiness',(-50,60))"
   ]
  },
  {
   "cell_type": "code",
   "execution_count": null,
   "id": "1c6f5c10",
   "metadata": {},
   "outputs": [],
   "source": [
    "# The correlation between the latitude and percent cloudiness is very low because\n",
    "# the r-value is less than –0.09 for the Northern Hemisphere and less than –0.02 for the Southern Hemisphere \n",
    "#for the plots shown here. This means that cloudiness is unpredictable due to changing weather patterns that can increase or decrease percent cloudiness. Check the r-values for your plots. "
   ]
  },
  {
   "cell_type": "markdown",
   "id": "829b7796",
   "metadata": {},
   "source": [
    "# Find the Correlation Between Latitude and Wind Speed"
   ]
  },
  {
   "cell_type": "code",
   "execution_count": null,
   "id": "f5a4834f",
   "metadata": {},
   "outputs": [],
   "source": [
    "# Linear regression on the Northern Hemisphere\n",
    "x_values = northern_hemi_df[\"Lat\"]\n",
    "y_values = northern_hemi_df[\"Wind Speed\"]\n",
    "# Call the function.\n",
    "plot_linear_regression(x_values, y_values,\n",
    "                       'Linear Regression on the Northern Hemisphere \\\n",
    "                        for Wind Speed', 'Wind Speed',(40,35))"
   ]
  },
  {
   "cell_type": "markdown",
   "id": "7b488a8e",
   "metadata": {},
   "source": [
    "# Perform Linear Regression on the Wind Speed for the Southern Hemisphere"
   ]
  },
  {
   "cell_type": "code",
   "execution_count": null,
   "id": "ac0c3066",
   "metadata": {},
   "outputs": [],
   "source": [
    "# Linear regression on the Southern Hemisphere\n",
    "x_values = southern_hemi_df[\"Lat\"]\n",
    "y_values = southern_hemi_df[\"Wind Speed\"]\n",
    "# Call the function.\n",
    "plot_linear_regression(x_values, y_values,\n",
    "                       'Linear Regression on the Southern Hemisphere \\\n",
    "                        for Wind Speed', 'Wind Speed',(-50,35))\n"
   ]
  },
  {
   "cell_type": "code",
   "execution_count": 59,
   "id": "efcf55d7",
   "metadata": {},
   "outputs": [],
   "source": [
    "# The correlation between the latitude and wind speed is very low because the r-value is less \n",
    "# than –0.07 for the Northern Hemisphere and less than –0.3 for the Southern Hemisphere for the plots shown here.\n",
    "# This means that wind speed is unpredictable due to changing weather patterns that can increase or decrease wind speed.\n",
    "# Check the r-values for your plots."
   ]
  },
  {
   "cell_type": "code",
   "execution_count": null,
   "id": "0604bb76",
   "metadata": {},
   "outputs": [],
   "source": []
  },
  {
   "cell_type": "code",
   "execution_count": null,
   "id": "3f98175c",
   "metadata": {},
   "outputs": [],
   "source": []
  },
  {
   "cell_type": "code",
   "execution_count": null,
   "id": "ea0e7def",
   "metadata": {},
   "outputs": [],
   "source": []
  },
  {
   "cell_type": "code",
   "execution_count": null,
   "id": "84219986",
   "metadata": {},
   "outputs": [],
   "source": []
  },
  {
   "cell_type": "code",
   "execution_count": null,
   "id": "85b5ee22",
   "metadata": {},
   "outputs": [],
   "source": []
  },
  {
   "cell_type": "code",
   "execution_count": null,
   "id": "c907544d",
   "metadata": {},
   "outputs": [],
   "source": []
  },
  {
   "cell_type": "code",
   "execution_count": null,
   "id": "dd454efa",
   "metadata": {},
   "outputs": [],
   "source": []
  },
  {
   "cell_type": "markdown",
   "id": "ed6b2fb8",
   "metadata": {},
   "source": [
    "## Get Data for Plotting"
   ]
  },
  {
   "cell_type": "markdown",
   "id": "4d629c65",
   "metadata": {},
   "source": [
    "# Create a DataFrame of City Weather Data\n",
    "#### Recall that we can convert a list of dictionaries to a Pandas DataFrame using df = pd.DataFrame(list with dictionaries)."
   ]
  },
  {
   "cell_type": "code",
   "execution_count": null,
   "id": "1496b30a",
   "metadata": {},
   "outputs": [],
   "source": [
    "# Convert the array of dictionaries to a Pandas DataFrame.\n",
    "city_data_df = pd.DataFrame(city_data)\n",
    "city_data_df.head(10)"
   ]
  },
  {
   "cell_type": "code",
   "execution_count": null,
   "id": "96846b0b",
   "metadata": {},
   "outputs": [],
   "source": [
    "# Next, we'll reorder the columns as City, Country, Date, Lat, Lng, Max Temp, Humidity, Cloudiness, and \n",
    "#Wind Speed, so they are easy to read.\n",
    "#Recall that to reorder the columns, we assign a variable to an array of the columns in the order \n",
    "#we want them to appear:\n",
    "#new_column_order = [\"column2\", \"column4\", \"column1\"]\n",
    "#Then, we assign a new or the same DataFrame with new column order:\n",
    "#df = df[new_column_order]"
   ]
  },
  {
   "cell_type": "code",
   "execution_count": null,
   "id": "fdb9a01c",
   "metadata": {},
   "outputs": [],
   "source": []
  },
  {
   "cell_type": "code",
   "execution_count": null,
   "id": "87ace747",
   "metadata": {},
   "outputs": [],
   "source": []
  },
  {
   "cell_type": "code",
   "execution_count": null,
   "id": "f0ed3d75",
   "metadata": {},
   "outputs": [],
   "source": []
  },
  {
   "cell_type": "code",
   "execution_count": null,
   "id": "4cc64e0b",
   "metadata": {},
   "outputs": [],
   "source": [
    "# Instead of using two for loops, we can use the enumerate() method as an alternative way to iterate through\n",
    "# the list of cities and retrieve both the index, and the city from the list. The syntax for the enumerate() method\n",
    "# for i, item in enumerate(list):"
   ]
  },
  {
   "cell_type": "code",
   "execution_count": null,
   "id": "896260ac",
   "metadata": {},
   "outputs": [],
   "source": [
    "#Let's use the enumerate() method to get the index of the city for logging purposes and the city for creating\n",
    "#an endpoint URL"
   ]
  },
  {
   "cell_type": "code",
   "execution_count": null,
   "id": "22f489e1",
   "metadata": {},
   "outputs": [],
   "source": [
    "print(f\"Processing Record {record_count} of Set {set_count} | {city_data}\")"
   ]
  },
  {
   "cell_type": "markdown",
   "id": "3ad02004",
   "metadata": {},
   "source": [
    "## Handle API Request Errors with try-except Blocks\n"
   ]
  },
  {
   "cell_type": "markdown",
   "id": "d9a49921",
   "metadata": {},
   "source": [
    "### Canvas example"
   ]
  },
  {
   "cell_type": "code",
   "execution_count": 39,
   "id": "7a8f71f8",
   "metadata": {},
   "outputs": [],
   "source": [
    "import requests as req\n",
    "from config import weather_api_key"
   ]
  },
  {
   "cell_type": "code",
   "execution_count": 40,
   "id": "db643dac",
   "metadata": {},
   "outputs": [],
   "source": [
    "url = \"http://api.openweathermap.org/data/2.5/weather?units=Imperial&APPID=\" + weather_api_key"
   ]
  },
  {
   "cell_type": "code",
   "execution_count": 41,
   "id": "79a50996",
   "metadata": {},
   "outputs": [],
   "source": [
    "cities = [\"Pittsburgh\", \"Austin\", \"New  York\", \"Los Angeles\", \"Seattle\"]"
   ]
  },
  {
   "cell_type": "code",
   "execution_count": 43,
   "id": "38b8979e",
   "metadata": {},
   "outputs": [
    {
     "name": "stdout",
     "output_type": "stream",
     "text": [
      "It is currently 57.7degrees in buqayq\n",
      "It is currently 86.54degrees in buqayq\n"
     ]
    },
    {
     "ename": "KeyError",
     "evalue": "'main'",
     "output_type": "error",
     "traceback": [
      "\u001b[0;31m---------------------------------------------------------------------------\u001b[0m",
      "\u001b[0;31mKeyError\u001b[0m                                  Traceback (most recent call last)",
      "\u001b[0;32m/var/folders/q7/p_1m8x5n7cl93lmxb8f5lt540000gn/T/ipykernel_22857/3810180737.py\u001b[0m in \u001b[0;36m<module>\u001b[0;34m\u001b[0m\n\u001b[1;32m     14\u001b[0m \u001b[0;34m\u001b[0m\u001b[0m\n\u001b[1;32m     15\u001b[0m     \u001b[0mweather\u001b[0m \u001b[0;34m=\u001b[0m \u001b[0mreq\u001b[0m\u001b[0;34m.\u001b[0m\u001b[0mget\u001b[0m\u001b[0;34m(\u001b[0m\u001b[0mcity_url\u001b[0m\u001b[0;34m)\u001b[0m\u001b[0;34m.\u001b[0m\u001b[0mjson\u001b[0m\u001b[0;34m(\u001b[0m\u001b[0;34m)\u001b[0m\u001b[0;34m\u001b[0m\u001b[0;34m\u001b[0m\u001b[0m\n\u001b[0;32m---> 16\u001b[0;31m     \u001b[0mtemp\u001b[0m \u001b[0;34m=\u001b[0m \u001b[0mweather\u001b[0m\u001b[0;34m[\u001b[0m\u001b[0;34m\"main\"\u001b[0m\u001b[0;34m]\u001b[0m\u001b[0;34m[\u001b[0m\u001b[0;34m\"temp\"\u001b[0m\u001b[0;34m]\u001b[0m\u001b[0;34m\u001b[0m\u001b[0;34m\u001b[0m\u001b[0m\n\u001b[0m\u001b[1;32m     17\u001b[0m     \u001b[0mprint\u001b[0m\u001b[0;34m(\u001b[0m\u001b[0;34m\"It is currently \"\u001b[0m \u001b[0;34m+\u001b[0m \u001b[0mstr\u001b[0m\u001b[0;34m(\u001b[0m\u001b[0mtemp\u001b[0m\u001b[0;34m)\u001b[0m \u001b[0;34m+\u001b[0m \u001b[0;34m\"degrees in \"\u001b[0m \u001b[0;34m+\u001b[0m \u001b[0mcity\u001b[0m\u001b[0;34m)\u001b[0m\u001b[0;34m\u001b[0m\u001b[0;34m\u001b[0m\u001b[0m\n",
      "\u001b[0;31mKeyError\u001b[0m: 'main'"
     ]
    }
   ],
   "source": [
    "# Canvas 6.2.6\n",
    "# Coding without try: except: conyinue method, which helps to know if the name of a city has two spaces, \n",
    "# so it tells you what city it is.\n",
    "\n",
    "for i in range(len(cities)):\n",
    "    \n",
    "    # Group cities in sets of 50 for logging purposes\n",
    "    if (i % 50 == 0 and i >= 50):\n",
    "        set_count += 1\n",
    "        record_count += 1\n",
    "        time.sleep(60)\n",
    "    # Creat endpoint URL with each city.\n",
    "    city_url = url + \"&q=\" + cities[i]\n",
    "    \n",
    "    weather = req.get(city_url).json()\n",
    "    temp = weather[\"main\"][\"temp\"]\n",
    "    print(\"It is currently \" + str(temp) + \"degrees in \" + city)"
   ]
  },
  {
   "cell_type": "code",
   "execution_count": null,
   "id": "6c6fda23",
   "metadata": {},
   "outputs": [],
   "source": [
    "# Canvas 6.2.6\n",
    "# Coding without try: except: conyinue method, which helps to know if the name of a city has two spaces, \n",
    "# so it tells you what city it is.\n",
    "\n",
    "# Create an empty list to hold the weather data.\n",
    "city_data = []\n",
    "# Print the beginning of the logging.\n",
    "print(\"Beginning Data Retrieval     \")\n",
    "print(\"-----------------------------\")\n",
    "\n",
    "# Create counters.\n",
    "record_count = 1\n",
    "set_count = 1\n",
    "\n",
    "for i, city in  enumerate(cities):\n",
    "    \n",
    "    # Group cities in sets of 50 for logging purposes\n",
    "    if (i % 50 == 0 and i >= 50):\n",
    "        set_count += 1\n",
    "        record_count += 1\n",
    "        time.sleep(60)\n",
    "    # Creat endpoint URL with each city.\n",
    "    city_url = url + \"&q=\" + city.replace[\" \", \"+\"]          # we remove the blank spaces in the city name\n",
    "    \n",
    "    # Log the URL, record, and set numbers and the city.\n",
    "    print(f\"Procesing Record {record_count} of Set {set_count} | {city}\")\n",
    "    \n",
    "    # Add 1 to the record count\n",
    "    record_count += 1\n",
    "    \n",
    "# 2.\n",
    "# Run an API request for each of the cities.\n",
    "\n",
    "    try:\n",
    "        # Parse the JSON retrieve data\n",
    "        # Parse the JSON and retrieve data.\n",
    "        city_weather = requests.get(city_url).json()              # Get all the url\n",
    "        # Parse out the needed data.\n",
    "        city_lat = city_weather[\"coord\"][\"lat\"]                   # We acces to the dictionary of each url to get the\n",
    "        city_lng = city_weather[\"coord\"][\"lon\"]                   # required fields\n",
    "        city_max_temp = city_weather[\"main\"][\"temp_max\"]\n",
    "        city_humidity = city_weather[\"main\"][\"humidity\"]\n",
    "        city_clouds = city_weather[\"clouds\"][\"all\"]\n",
    "        city_wind = city_weather[\"wind\"][\"speed\"]\n",
    "        city_country = city_weather[\"sys\"][\"country\"]\n",
    "        # Convert the date to ISO standard.\n",
    "        city_date = datetime.utcfromtimestamp(city_weather[\"dt\"]).strftime('%Y-%m-%d %H:%M:%S')\n",
    "        # Append the city information into city_data list.\n",
    "        city_data.append({\"City\": city.title(),\n",
    "                          \"Lat\": city_lat,\n",
    "                          \"Lng\": city_lng,\n",
    "                          \"Max Temp\": city_max_temp,\n",
    "                          \"Humidity\": city_humidity,\n",
    "                          \"Cloudiness\": city_clouds,\n",
    "                          \"Wind Speed\": city_wind,\n",
    "                          \"Country\": city_country,\n",
    "                          \"Date\": city_date})\n",
    "\n",
    "# If an error is experienced, skip th city.\n",
    "    except:\n",
    "        print (\"City not found. Skipping...\")\n",
    "        \n",
    "# Indicate that Data Loading is complete.\n",
    "print(\"-----------------------------\")\n",
    "print(\"Data Retrieval Complete      \")\n",
    "print(\"-----------------------------\")\n",
    "\n",
    "    #weather = req.get(city_url).json()\n",
    "    #temp = weather[\"main\"][\"temp\"]\n",
    "    #print(\"It is currently \" + str(temp) + \"degrees in \" + city)"
   ]
  },
  {
   "cell_type": "code",
   "execution_count": null,
   "id": "6725c15b",
   "metadata": {},
   "outputs": [],
   "source": [
    "# adding the try, except and continue method to avoid removing the two spaces in the \"New. York\" city, it helps you \n",
    "# to locate the error in your cities, but also the code can continue with the rest of the list, buu telling you \n",
    "# the cities with error, = where the openweather can´t fin the city you are looking for.\n",
    "#try:\n",
    "#  Do something\n",
    "#except:\n",
    "#  print(\"An exception occurred\")\n",
    "\n",
    "for city in cities:\n",
    "    try:\n",
    "        city_url = url + \"&q=\" + city\n",
    "        weather = req.get(city_url).json()\n",
    "        temp = weather[\"main\"][\"temp\"]\n",
    "    except KeyError:\n",
    "        print(\"Key Error recieved for \" + city)\n",
    "        continue\n",
    "    print(\"It is currently \" + str(temp) + \"degrees in \" + city)"
   ]
  },
  {
   "cell_type": "code",
   "execution_count": null,
   "id": "c16744a0",
   "metadata": {},
   "outputs": [],
   "source": [
    "  "
   ]
  },
  {
   "cell_type": "code",
   "execution_count": null,
   "id": "50c3a20b",
   "metadata": {},
   "outputs": [],
   "source": []
  }
 ],
 "metadata": {
  "kernelspec": {
   "display_name": "PythonData",
   "language": "python",
   "name": "pythondata"
  },
  "language_info": {
   "codemirror_mode": {
    "name": "ipython",
    "version": 3
   },
   "file_extension": ".py",
   "mimetype": "text/x-python",
   "name": "python",
   "nbconvert_exporter": "python",
   "pygments_lexer": "ipython3",
   "version": "3.7.11"
  }
 },
 "nbformat": 4,
 "nbformat_minor": 5
}
